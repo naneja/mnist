{
 "cells": [
  {
   "cell_type": "markdown",
   "metadata": {},
   "source": [
    "# MNIST"
   ]
  },
  {
   "cell_type": "code",
   "execution_count": 1,
   "metadata": {},
   "outputs": [],
   "source": [
    "import torch\n",
    "from torch import nn\n",
    "import torch.nn.functional as F\n",
    "\n",
    "import torchvision\n",
    "from torchvision import datasets, transforms\n",
    "\n",
    "import matplotlib.pyplot as plt\n",
    "import numpy as np\n",
    "import os\n",
    "import copy\n",
    "from sklearn.metrics import accuracy_score\n",
    "from sklearn.metrics import confusion_matrix\n",
    "import seaborn as sns\n",
    "\n",
    "%matplotlib inline"
   ]
  },
  {
   "cell_type": "code",
   "execution_count": 2,
   "metadata": {},
   "outputs": [
    {
     "name": "stdout",
     "output_type": "stream",
     "text": [
      "cpu\n"
     ]
    }
   ],
   "source": [
    "device = 'cuda' if torch.cuda.is_available() else 'cpu'\n",
    "print(device)"
   ]
  },
  {
   "cell_type": "code",
   "execution_count": 3,
   "metadata": {},
   "outputs": [],
   "source": [
    "mean = (0.5, 0.5, 0.5)\n",
    "std = (0.5, 0.5, 0.5)\n",
    "tfs = [transforms.ToTensor(), transforms.Normalize(mean, std)]\n",
    "transform = transforms.Compose(tfs)"
   ]
  },
  {
   "cell_type": "code",
   "execution_count": 4,
   "metadata": {},
   "outputs": [
    {
     "data": {
      "text/plain": [
       "(60000, 10000)"
      ]
     },
     "execution_count": 4,
     "metadata": {},
     "output_type": "execute_result"
    }
   ],
   "source": [
    "ds_train = datasets.MNIST(root='data', download=True, train=True, transform=transform)\n",
    "ds_test = datasets.MNIST(root='data', download=True, train=False, transform=transform)\n",
    "len(ds_train), len(ds_test)"
   ]
  },
  {
   "cell_type": "code",
   "execution_count": 5,
   "metadata": {},
   "outputs": [],
   "source": [
    "BS = 64\n",
    "loader_train = torch.utils.data.DataLoader(ds_train, batch_size=BS, shuffle=True, num_workers=4)\n",
    "loader_test = torch.utils.data.DataLoader(ds_train, batch_size=BS, shuffle=True, num_workers=4)"
   ]
  },
  {
   "cell_type": "code",
   "execution_count": 6,
   "metadata": {},
   "outputs": [],
   "source": [
    "class Network(nn.Module):\n",
    "    def __init__(self):\n",
    "        super(Network, self).__init__()\n",
    "        # starts with 1*28*28\n",
    "        self.conv1 = nn.Conv2d(1, 20, 3, padding=1) \n",
    "        self.conv2 = nn.Conv2d(20, 50, 3, padding=1) \n",
    "\n",
    "        self.pool = nn.MaxPool2d(2, 2)\n",
    "        \n",
    "        self.fc1 = nn.Linear(50*7*7, 500)\n",
    "        self.fc2 = nn.Linear(500, 10)\n",
    "        self.dropout = nn.Dropout(p=0.5)\n",
    "    \n",
    "    def forward(self, x):\n",
    "        relu = nn.ReLU()\n",
    "        \n",
    "        x = relu(self.conv1(x)) # (1, 28, 28) -> (20, 28, 28)\n",
    "        x = self.pool(x) # (20, 28, 28) -> (20, 14, 14)\n",
    "        \n",
    "        x = relu(self.conv2(x)) # (20, 14, 14) -> (50, 14, 14)\n",
    "        x = self.pool(x) # (50, 14, 14) -> (50, 7, 7)\n",
    "        \n",
    "        x = x.view(-1, 50*7*7)\n",
    "\n",
    "        x = self.dropout(x)\n",
    "        x = self.dropout(F.relu(self.fc1(x)))\n",
    "        x = self.fc2(x)\n",
    "        \n",
    "        return x"
   ]
  },
  {
   "cell_type": "code",
   "execution_count": 7,
   "metadata": {},
   "outputs": [
    {
     "name": "stdout",
     "output_type": "stream",
     "text": [
      "[6, 4, 7, 8, 9, 5, 6, 4]\n",
      "[9, 2, 7, 0, 8, 0, 0, 0]\n"
     ]
    },
    {
     "data": {
      "image/png": "[encoded data removed]",
      "text/plain": [
       "<Figure size 432x288 with 1 Axes>"
      ]
     },
     "metadata": {
      "needs_background": "light"
     },
     "output_type": "display_data"
    }
   ],
   "source": [
    "def imshow(img):\n",
    "    img = img / 2 + 0.5     # unnormalize\n",
    "    npimg = img.numpy()\n",
    "    plt.imshow(np.transpose(npimg, (1, 2, 0)))\n",
    "\n",
    "images, labels = next(iter(loader_train))\n",
    "\n",
    "imgs = images[:16]\n",
    "lbls = labels[:16]\n",
    "imshow(torchvision.utils.make_grid(imgs))\n",
    "l = list(lbls.numpy())\n",
    "print(l[:len(l)//2])\n",
    "print(l[len(l)//2:])"
   ]
  },
  {
   "cell_type": "code",
   "execution_count": 8,
   "metadata": {},
   "outputs": [
    {
     "data": {
      "text/plain": [
       "Network(\n",
       "  (conv1): Conv2d(1, 20, kernel_size=(3, 3), stride=(1, 1), padding=(1, 1))\n",
       "  (conv2): Conv2d(20, 50, kernel_size=(3, 3), stride=(1, 1), padding=(1, 1))\n",
       "  (pool): MaxPool2d(kernel_size=2, stride=2, padding=0, dilation=1, ceil_mode=False)\n",
       "  (fc1): Linear(in_features=2450, out_features=500, bias=True)\n",
       "  (fc2): Linear(in_features=500, out_features=10, bias=True)\n",
       "  (dropout): Dropout(p=0.5)\n",
       ")"
      ]
     },
     "execution_count": 8,
     "metadata": {},
     "output_type": "execute_result"
    }
   ],
   "source": [
    "model = Network()\n",
    "model.to(device)\n",
    "model"
   ]
  },
  {
   "cell_type": "code",
   "execution_count": 9,
   "metadata": {},
   "outputs": [],
   "source": [
    "def train(model, loader, optimizer, criterion, epoch):\n",
    "    loss_train = 0\n",
    "    for batch_idx, (data, labels) in enumerate(loader):\n",
    "        print('Batch {}'.format(batch_idx), end='\\r')\n",
    "        model.train()\n",
    "        \n",
    "        data = data.to(device)\n",
    "        labels = labels.to(device)\n",
    "        \n",
    "        optimizer.zero_grad()\n",
    "        \n",
    "        outputs = model(data)\n",
    "        loss = criterion(outputs, labels)\n",
    "        loss.backward()\n",
    "        optimizer.step()\n",
    "        loss_train += loss.item() * labels.size(0)\n",
    "\n",
    "    loss_train /= len(loader_train.dataset)\n",
    "    return loss_train"
   ]
  },
  {
   "cell_type": "code",
   "execution_count": 10,
   "metadata": {},
   "outputs": [],
   "source": [
    "from torch.optim.optimizer import Optimizer, required\n",
    "\n",
    "class MySGD(Optimizer):\n",
    "    def __init__(self, params, lr=required):\n",
    "        defaults = dict(lr=lr)\n",
    "        super(MySGD, self).__init__(params, defaults)\n",
    "\n",
    "    def __setstate__(self, state):\n",
    "        super(MySGD, self).__setstate__(state)\n",
    "    \n",
    "    def step(self, closure=None):\n",
    "        loss = None\n",
    "        if closure is not None:\n",
    "            loss = closure()\n",
    "        for group in self.param_groups:\n",
    "            for p in group['params']:\n",
    "                if p.grad is None:\n",
    "                    continue\n",
    "                d_p = p.grad.data\n",
    "                p.data.add_(-group['lr'], d_p)\n",
    "\n",
    "        return loss\n",
    "\n"
   ]
  },
  {
   "cell_type": "code",
   "execution_count": 11,
   "metadata": {},
   "outputs": [],
   "source": [
    "criterion = nn.CrossEntropyLoss()\n",
    "#optimizer = torch.optim.SGD(model.parameters(), lr=.01, momentum=0.9)\n",
    "optimizer = MySGD(model.parameters(), lr=.01)"
   ]
  },
  {
   "cell_type": "code",
   "execution_count": 12,
   "metadata": {},
   "outputs": [
    {
     "name": "stdout",
     "output_type": "stream",
     "text": [
      "First Iteration\n",
      "Train:  1 Loss 1.130 - model saved\n",
      "Train:  2 Loss 0.329 - model saved\n"
     ]
    }
   ],
   "source": [
    "epochs = 2\n",
    "\n",
    "ckpt = './model/ckpt-mysgd.pt'\n",
    "os.makedirs('model', exist_ok=True)\n",
    "\n",
    "if os.path.exists(ckpt):\n",
    "    print('Loading Previous Results')\n",
    "    ckpt_loaded = torch.load(ckpt, map_location=device)\n",
    "    model.load_state_dict(ckpt_loaded['model_weights'])\n",
    "    loss = ckpt_loaded['loss']\n",
    "    loss = 9999\n",
    "else:\n",
    "    print('First Iteration')\n",
    "    loss = 9999\n",
    "\n",
    "\n",
    "for epoch in range(epochs):\n",
    "    loss_e = train(model, loader_train, optimizer, criterion, epoch+1)\n",
    "    if loss_e < loss:\n",
    "        loss = loss_e\n",
    "        model_weights = copy.deepcopy(model.state_dict())\n",
    "        ckpt_dict = {\n",
    "            'model_weights': model_weights,\n",
    "            'loss':loss\n",
    "        }\n",
    "        torch.save(ckpt_dict, ckpt)\n",
    "        print('Train: {:2d} Loss {:.3f} - model saved'.format(epoch+1, loss_e))\n",
    "    else:\n",
    "        print('Train: {:2d} Loss {:.3f}'.format(epoch+1, loss_e))\n"
   ]
  },
  {
   "cell_type": "code",
   "execution_count": 13,
   "metadata": {},
   "outputs": [],
   "source": [
    "def test(model, loader, criterion):\n",
    "    preds_ds, labels_ds = [], []\n",
    "    \n",
    "    model.eval()\n",
    "    with torch.no_grad():\n",
    "        for data, labels in loader:\n",
    "            data, labels = data.to(device), labels.to(device)\n",
    "            outputs = model(data)\n",
    "            \n",
    "            preds = outputs.argmax(dim=1, keepdim=True)\n",
    "            preds = preds.view_as(labels)\n",
    "            \n",
    "            preds_ds.append(list(preds.cpu().numpy()))\n",
    "            labels_ds.append(list(labels.cpu().numpy()))\n",
    "            \n",
    "    return preds_ds, labels_ds\n",
    "preds_ds, labels_ds = test(model, loader_test, criterion)"
   ]
  },
  {
   "cell_type": "code",
   "execution_count": 14,
   "metadata": {},
   "outputs": [
    {
     "name": "stdout",
     "output_type": "stream",
     "text": [
      "Accuracy Score 0.953125\n"
     ]
    }
   ],
   "source": [
    "y_pred = preds_ds[0]\n",
    "y_true = labels_ds[0]\n",
    "print('Accuracy Score {}'.format(accuracy_score(y_true, y_pred)))"
   ]
  },
  {
   "cell_type": "code",
   "execution_count": 15,
   "metadata": {},
   "outputs": [
    {
     "data": {
      "image/png": "[encoded data removed]",
      "text/plain": [
       "<Figure size 1440x504 with 2 Axes>"
      ]
     },
     "metadata": {
      "needs_background": "light"
     },
     "output_type": "display_data"
    }
   ],
   "source": [
    "cm = confusion_matrix(y_true=y_true , y_pred=y_pred)\n",
    "cm = cm.astype('float') / cm.sum(axis=1)[:, np.newaxis]\n",
    "plt.figure(figsize=(20,7))\n",
    "plt.rcParams.update({'font.size': 16})\n",
    "sns.heatmap(cm, annot=True, cmap='Blues');"
   ]
  },
  {
   "cell_type": "code",
   "execution_count": 16,
   "metadata": {},
   "outputs": [
    {
     "data": {
      "text/plain": [
       "0.953125"
      ]
     },
     "execution_count": 16,
     "metadata": {},
     "output_type": "execute_result"
    }
   ],
   "source": [
    "accuracy_score(y_true, y_pred)"
   ]
  },
  {
   "cell_type": "code",
   "execution_count": null,
   "metadata": {},
   "outputs": [],
   "source": []
  }
 ],
 "metadata": {
  "kernelspec": {
   "display_name": "Python 3",
   "language": "python",
   "name": "python3"
  },
  "language_info": {
   "codemirror_mode": {
    "name": "ipython",
    "version": 3
   },
   "file_extension": ".py",
   "mimetype": "text/x-python",
   "name": "python",
   "nbconvert_exporter": "python",
   "pygments_lexer": "ipython3",
   "version": "3.7.3"
  }
 },
 "nbformat": 4,
 "nbformat_minor": 2
}
